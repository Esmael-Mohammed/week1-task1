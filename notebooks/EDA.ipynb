{
 "cells": [
  {
   "cell_type": "code",
   "execution_count": 1,
   "metadata": {},
   "outputs": [],
   "source": [
    "import pandas as pd\n",
    "from textblob import TextBlob"
   ]
  },
  {
   "cell_type": "markdown",
   "metadata": {},
   "source": [
    "Task 1 week one challege"
   ]
  },
  {
   "cell_type": "code",
   "execution_count": 2,
   "metadata": {},
   "outputs": [],
   "source": [
    "# Load the dataset\n",
    "data = pd.read_csv('raw_analyst_ratings.csv')"
   ]
  },
  {
   "cell_type": "code",
   "execution_count": 3,
   "metadata": {},
   "outputs": [
    {
     "name": "stdout",
     "output_type": "stream",
     "text": [
      "<class 'pandas.core.frame.DataFrame'>\n",
      "RangeIndex: 1407328 entries, 0 to 1407327\n",
      "Data columns (total 6 columns):\n",
      " #   Column      Non-Null Count    Dtype \n",
      "---  ------      --------------    ----- \n",
      " 0   Unnamed: 0  1407328 non-null  int64 \n",
      " 1   headline    1407328 non-null  object\n",
      " 2   url         1407328 non-null  object\n",
      " 3   publisher   1407328 non-null  object\n",
      " 4   date        1407328 non-null  object\n",
      " 5   stock       1407328 non-null  object\n",
      "dtypes: int64(1), object(5)\n",
      "memory usage: 64.4+ MB\n",
      "None\n",
      "         Unnamed: 0\n",
      "count  1.407328e+06\n",
      "mean   7.072454e+05\n",
      "std    4.081009e+05\n",
      "min    0.000000e+00\n",
      "25%    3.538128e+05\n",
      "50%    7.072395e+05\n",
      "75%    1.060710e+06\n",
      "max    1.413848e+06\n"
     ]
    }
   ],
   "source": [
    "# Basic Descriptive Statistics\n",
    "print(data.info())\n",
    "print(data.describe())"
   ]
  },
  {
   "cell_type": "code",
   "execution_count": 4,
   "metadata": {},
   "outputs": [
    {
     "name": "stdout",
     "output_type": "stream",
     "text": [
      "count    1.407328e+06\n",
      "mean     7.312051e+01\n",
      "std      4.073531e+01\n",
      "min      3.000000e+00\n",
      "25%      4.700000e+01\n",
      "50%      6.400000e+01\n",
      "75%      8.700000e+01\n",
      "max      5.120000e+02\n",
      "Name: headline_length, dtype: float64\n"
     ]
    }
   ],
   "source": [
    "# Textual Length Analysis\n",
    "data['headline_length'] = data['headline'].apply(len)\n",
    "print(data['headline_length'].describe())"
   ]
  },
  {
   "cell_type": "code",
   "execution_count": 5,
   "metadata": {},
   "outputs": [
    {
     "name": "stdout",
     "output_type": "stream",
     "text": [
      "publisher\n",
      "Paul Quintaro        228373\n",
      "Lisa Levin           186979\n",
      "Benzinga Newsdesk    150484\n",
      "Charles Gross         96732\n",
      "Monica Gerson         82380\n",
      "                      ...  \n",
      "MoneyGeek                 1\n",
      "muathe                    1\n",
      "Robert Morris             1\n",
      "LeftCoastHedgie           1\n",
      "Jeremie Capron            1\n",
      "Name: count, Length: 1034, dtype: int64\n"
     ]
    }
   ],
   "source": [
    "# Publisher Analysis\n",
    "publisher_counts = data['publisher'].value_counts()\n",
    "print(publisher_counts)"
   ]
  },
  {
   "cell_type": "code",
   "execution_count": 8,
   "metadata": {},
   "outputs": [
    {
     "name": "stdout",
     "output_type": "stream",
     "text": [
      "                                            headline  sentiment\n",
      "0            Stocks That Hit 52-Week Highs On Friday        0.0\n",
      "1         Stocks That Hit 52-Week Highs On Wednesday        0.0\n",
      "2                      71 Biggest Movers From Friday        0.0\n",
      "3       46 Stocks Moving In Friday's Mid-Day Session        0.0\n",
      "4  B of A Securities Maintains Neutral on Agilent...        0.0\n"
     ]
    }
   ],
   "source": [
    "# Sentiment Analysis\n",
    "def get_sentiment(text):\n",
    "    return TextBlob(text).sentiment.polarity\n",
    "\n",
    "data['sentiment'] = data['headline'].apply(get_sentiment)\n",
    "print(data[['headline', 'sentiment']].head())"
   ]
  },
  {
   "cell_type": "code",
   "execution_count": 12,
   "metadata": {},
   "outputs": [
    {
     "name": "stdout",
     "output_type": "stream",
     "text": [
      "1351341\n"
     ]
    }
   ],
   "source": [
    "data['date'] = pd.to_datetime(data['date'], errors='coerce')\n",
    "print(data['date'].isnull().sum())  # Check how many dates couldn't be parsed\n"
   ]
  },
  {
   "cell_type": "code",
   "execution_count": 13,
   "metadata": {},
   "outputs": [],
   "source": [
    "data = data.dropna(subset=['date'])  # Drop rows with invalid dates\n"
   ]
  },
  {
   "cell_type": "code",
   "execution_count": 14,
   "metadata": {},
   "outputs": [],
   "source": [
    "data['date'] = pd.to_datetime(data['date'], format='%Y-%m-%d %H:%M:%S', errors='coerce')\n"
   ]
  },
  {
   "cell_type": "code",
   "execution_count": 15,
   "metadata": {},
   "outputs": [
    {
     "name": "stdout",
     "output_type": "stream",
     "text": [
      "<class 'pandas.core.series.Series'>\n",
      "Index: 55987 entries, 0 to 1407270\n",
      "Series name: date\n",
      "Non-Null Count  Dtype                    \n",
      "--------------  -----                    \n",
      "55987 non-null  datetime64[ns, UTC-04:00]\n",
      "dtypes: datetime64[ns, UTC-04:00](1)\n",
      "memory usage: 874.8 KB\n",
      "None\n",
      "date\n",
      "2011-04-27 21:01:48-04:00    1\n",
      "2011-04-28 13:49:29-04:00    1\n",
      "2011-04-28 15:00:36-04:00    1\n",
      "2011-04-29 13:47:06-04:00    1\n",
      "2011-04-29 16:11:05-04:00    1\n",
      "                            ..\n",
      "2020-06-11 16:49:41-04:00    1\n",
      "2020-06-11 16:51:33-04:00    1\n",
      "2020-06-11 17:01:39-04:00    1\n",
      "2020-06-11 17:11:20-04:00    1\n",
      "2020-06-11 17:12:35-04:00    1\n",
      "Name: count, Length: 36011, dtype: int64\n"
     ]
    }
   ],
   "source": [
    "print(data['date'].info())\n",
    "print(data['date'].value_counts().sort_index())\n"
   ]
  }
 ],
 "metadata": {
  "kernelspec": {
   "display_name": ".venev",
   "language": "python",
   "name": "python3"
  },
  "language_info": {
   "codemirror_mode": {
    "name": "ipython",
    "version": 3
   },
   "file_extension": ".py",
   "mimetype": "text/x-python",
   "name": "python",
   "nbconvert_exporter": "python",
   "pygments_lexer": "ipython3",
   "version": "3.13.1"
  }
 },
 "nbformat": 4,
 "nbformat_minor": 2
}
